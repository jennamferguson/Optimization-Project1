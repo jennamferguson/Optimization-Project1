{
 "cells": [
  {
   "cell_type": "code",
   "execution_count": 92,
   "metadata": {},
   "outputs": [],
   "source": [
    "import numpy as np\n",
    "import matplotlib.pyplot as plt\n",
    "import pandas as pd\n",
    "import gurobipy as gp\n",
    "from gurobipy import GRB"
   ]
  },
  {
   "cell_type": "markdown",
   "metadata": {},
   "source": []
  },
  {
   "cell_type": "code",
   "execution_count": 93,
   "metadata": {},
   "outputs": [],
   "source": [
    "# Load in image\n",
    "image = 'box.csv'\n",
    "image_data = pd.read_csv(image, header=None).values\n"
   ]
  },
  {
   "cell_type": "code",
   "execution_count": 94,
   "metadata": {},
   "outputs": [],
   "source": [
    "# Define parameters\n",
    "rows, cols = image_data.shape\n",
    "sigma = 0.05"
   ]
  },
  {
   "cell_type": "code",
   "execution_count": 95,
   "metadata": {},
   "outputs": [],
   "source": [
    "# Define source and sink pixels - replace for new image\n",
    "# source_pixel = (0, 0)  # Background, row 1 column A in oval.csv\n",
    "# sink_pixel = (rows-11, cols-8) # Foreground, row 9 column L in ovalcsv\n",
    "\n",
    "source_pixel = (0, 0)  # Background, row 1 column A in oval.csv\n",
    "sink_pixel = (rows-1, cols-1) # Foreground, row 9 column L in ovalcsv"
   ]
  },
  {
   "cell_type": "code",
   "execution_count": 96,
   "metadata": {},
   "outputs": [],
   "source": [
    "def calculate_similarity(i1, i2):\n",
    "    return int(np.ceil(100 * np.exp(-((i1 - i2)**2) / (2 * sigma**2))))"
   ]
  },
  {
   "cell_type": "markdown",
   "metadata": {},
   "source": [
    "### Create the Network Matrix"
   ]
  },
  {
   "cell_type": "code",
   "execution_count": 97,
   "metadata": {},
   "outputs": [],
   "source": [
    "# Create the network matrix\n",
    "num_nodes = rows * cols + 2  # +2 for source and sink nodes\n",
    "network = np.zeros((num_nodes, num_nodes), dtype=int)"
   ]
  },
  {
   "cell_type": "code",
   "execution_count": 98,
   "metadata": {},
   "outputs": [],
   "source": [
    "# Fill in the network matrix\n",
    "for i in range(rows): #loop through rows\n",
    "    for j in range(cols): #loop through columns\n",
    "        current_node = i * cols + j # get index of current node by converting 2D pixel postition to vertical array\n",
    "        current_intensity = image_data[i, j] # get intensity of current node\n",
    "        \n",
    "        # Connect to right neighbor\n",
    "        if j < cols - 1: # checks that current pixel is not on far right edge\n",
    "            right_node = current_node + 1 # get index of right neighbor\n",
    "            right_intensity = image_data[i, j+1] # get intensity of right neighbor\n",
    "            similarity = calculate_similarity(current_intensity, right_intensity) # calculate similarity between current node and right neighbor\n",
    "            network[current_node, right_node] = similarity # add similarity to network\n",
    "            network[right_node, current_node] = similarity # add similarity to network\n",
    "        \n",
    "        # Connect to bottom neighbor\n",
    "        if i < rows - 1: # check that current pixel is not on the very bottom\n",
    "            bottom_node = current_node + cols\n",
    "            bottom_intensity = image_data[i+1, j]\n",
    "            similarity = calculate_similarity(current_intensity, bottom_intensity)\n",
    "            network[current_node, bottom_node] = similarity\n",
    "            network[bottom_node, current_node] = similarity\n",
    "\n",
    "        # Connect to left neighbor\n",
    "        if j > 0:  # check that current pixel is not on far left edge\n",
    "            left_node = current_node - 1\n",
    "            left_intensity = image_data[i, j-1]\n",
    "            similarity = calculate_similarity(current_intensity, left_intensity)\n",
    "            network[current_node, left_node] = similarity\n",
    "            network[left_node, current_node] = similarity\n",
    "\n",
    "        # Connect to top neighbor\n",
    "        if i > 0:  # check that current pixel is not at the very top\n",
    "            top_node = current_node - cols\n",
    "            top_intensity = image_data[i-1, j]\n",
    "            similarity = calculate_similarity(current_intensity, top_intensity)\n",
    "            network[current_node, top_node] = similarity\n",
    "            network[top_node, current_node] = similarity\n",
    "\n",
    "        # Connect to top-left diagonal neighbor\n",
    "        if i > 0 and j > 0:  # check that top left diagonal neighbor exists in bounds\n",
    "            top_left_node = current_node - cols - 1\n",
    "            top_left_intensity = image_data[i - 1, j - 1]\n",
    "            similarity = calculate_similarity(current_intensity, top_left_intensity)\n",
    "            network[current_node, top_left_node] = similarity\n",
    "            network[top_left_node, current_node] = similarity\n",
    "        \n",
    "        # Connect to top-right diagonal neighbor\n",
    "        if i > 0 and j < cols - 1:  # check that top right diagonal neighbor exists in bounds\n",
    "            top_right_node = current_node - cols + 1\n",
    "            top_right_intensity = image_data[i - 1, j + 1]\n",
    "            similarity = calculate_similarity(current_intensity, top_right_intensity)\n",
    "            network[current_node, top_right_node] = similarity\n",
    "            network[top_right_node, current_node] = similarity\n",
    "        \n",
    "        # Connect to bottom-left diagonal neighbor\n",
    "        if i < rows - 1 and j > 0:  # check that bottom left diagonal neighbor exists in bounds\n",
    "            bottom_left_node = current_node + cols - 1\n",
    "            bottom_left_intensity = image_data[i + 1, j - 1]\n",
    "            similarity = calculate_similarity(current_intensity, bottom_left_intensity)\n",
    "            network[current_node, bottom_left_node] = similarity\n",
    "            network[bottom_left_node, current_node] = similarity\n",
    "        \n",
    "        # Connect to bottom-right diagonal neighbor\n",
    "        if i < rows - 1 and j < cols - 1:  # check that bottom right diagonal neighbor exists in bounds\n",
    "            bottom_right_node = current_node + cols + 1\n",
    "            bottom_right_intensity = image_data[i + 1, j + 1]\n",
    "            similarity = calculate_similarity(current_intensity, bottom_right_intensity)\n",
    "            network[current_node, bottom_right_node] = similarity\n",
    "            network[bottom_right_node, current_node] = similarity"
   ]
  },
  {
   "cell_type": "code",
   "execution_count": 99,
   "metadata": {},
   "outputs": [],
   "source": [
    "# Connect source and sink\n",
    "\n",
    "source_node = rows * cols # get index of source node\n",
    "sink_node = rows * cols + 1 # get index of sink node\n",
    "max_similarity = np.max(network) # get max similarity value in the network\n",
    "\n",
    "# Convert the x,y coordinates of the source and sink pixel to the index of the network matrix\n",
    "source_pixel_node = source_pixel[0] * cols + source_pixel[1] \n",
    "sink_pixel_node = sink_pixel[0] * cols + sink_pixel[1]\n",
    "\n",
    "# set connections between source and sink and their pixel nodes to the max similarity value\n",
    "network[source_node, source_pixel_node] = max_similarity # flow from source node to background pixel only\n",
    "network[sink_pixel_node, sink_node] = max_similarity # flow from foreground pixel to sink node only"
   ]
  },
  {
   "cell_type": "code",
   "execution_count": 100,
   "metadata": {},
   "outputs": [
    {
     "name": "stdout",
     "output_type": "stream",
     "text": [
      "[[  0 100   0 ...   0   0   0]\n",
      " [100   0 100 ...   0   0   0]\n",
      " [  0 100   0 ...   0   0   0]\n",
      " ...\n",
      " [  0   0   0 ...   0   0 100]\n",
      " [100   0   0 ...   0   0   0]\n",
      " [  0   0   0 ...   0   0   0]]\n"
     ]
    }
   ],
   "source": [
    "print(network)"
   ]
  },
  {
   "cell_type": "code",
   "execution_count": 101,
   "metadata": {},
   "outputs": [
    {
     "data": {
      "image/png": "[encoded data removed]",
      "text/plain": [
       "<Figure size 1000x1000 with 2 Axes>"
      ]
     },
     "metadata": {},
     "output_type": "display_data"
    },
    {
     "name": "stdout",
     "output_type": "stream",
     "text": [
      "Network shape: (402, 402)\n",
      "Max similarity: 100\n"
     ]
    }
   ],
   "source": [
    "# Visualization of the original image\n",
    "plt.figure(figsize=(10, 10))\n",
    "plt.imshow(image_data, cmap='gray')\n",
    "plt.title('Original Image')\n",
    "plt.colorbar()\n",
    "plt.show()\n",
    "\n",
    "print(\"Network shape:\", network.shape)\n",
    "print(\"Max similarity:\", max_similarity)"
   ]
  }
 ],
 "metadata": {
  "kernelspec": {
   "display_name": "base",
   "language": "python",
   "name": "python3"
  },
  "language_info": {
   "codemirror_mode": {
    "name": "ipython",
    "version": 3
   },
   "file_extension": ".py",
   "mimetype": "text/x-python",
   "name": "python",
   "nbconvert_exporter": "python",
   "pygments_lexer": "ipython3",
   "version": "3.12.4"
  }
 },
 "nbformat": 4,
 "nbformat_minor": 2
}
